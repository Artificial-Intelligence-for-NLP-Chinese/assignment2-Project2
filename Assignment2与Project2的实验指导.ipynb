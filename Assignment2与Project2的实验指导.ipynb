{
 "cells": [
  {
   "cell_type": "markdown",
   "metadata": {},
   "source": [
    "# 实验指导"
   ]
  },
  {
   "cell_type": "markdown",
   "metadata": {},
   "source": [
    "实验目的：\n",
    "\n",
    "1. 掌握神经网络的基本原理；\n",
    "2. 掌握word2vec的基本原理；\n",
    "3. 掌握Keras的基本用法；\n",
    "4. 掌握tensorflow的基本用法；\n",
    "5. 掌握RNN的基本原理；\n",
    "6. 观察熟悉RNN的两种常见变体(LSTM和GRU)的原理和用法；\n",
    "7. 熟悉深度学习自然语言处理的基本流程。 "
   ]
  },
  {
   "cell_type": "markdown",
   "metadata": {},
   "source": [
    "### I 实验描述：\n",
    "\n",
    "#### 数据： 使用爬虫获得的豆瓣评论数据\n",
    "#### 目标： 建立机器学习模型，能够对输入的句子自动判断其对应的分值或感情倾向"
   ]
  },
  {
   "cell_type": "markdown",
   "metadata": {},
   "source": [
    "## II 数据预处理\n",
    "\n",
    "目的： 将文本信息变成神经网络可以处理的数据格式； "
   ]
  },
  {
   "cell_type": "markdown",
   "metadata": {},
   "source": [
    "## 第一部分： 基础理论"
   ]
  },
  {
   "cell_type": "markdown",
   "metadata": {},
   "source": [
    "## III 神经网络的基本原理"
   ]
  },
  {
   "cell_type": "markdown",
   "metadata": {},
   "source": [
    "#### Q1: 神经网络的Loss函数的作用为何？"
   ]
  },
  {
   "cell_type": "markdown",
   "metadata": {},
   "source": [
    "回答： \n",
    "\n",
    "衡量神经网络预测值和真实值之间的误差，作为优化的目标函数，计算出来的误差值是反向传播的依据。"
   ]
  },
  {
   "cell_type": "markdown",
   "metadata": {},
   "source": [
    "#### Q2: 神经网络的激活函数(activation function)起什么作用？ 如果没有激活函数会怎么样？ "
   ]
  },
  {
   "cell_type": "markdown",
   "metadata": {},
   "source": [
    "回答：\n",
    "\n",
    "1. 激活函数对输入数据进行了非线性变换。\n",
    "\n",
    "2. 若没有激活函数会导致模型过于简单，无法拟合非线性数据的复杂情况。"
   ]
  },
  {
   "cell_type": "markdown",
   "metadata": {},
   "source": [
    "#### Q3: 神经网络的softmax如何理解， 其作用是什么？ 在`答案`中写出softmax的python表达；\n"
   ]
  },
  {
   "cell_type": "markdown",
   "metadata": {},
   "source": [
    "答案：\n",
    "\n",
    "softmax函数把神经网络输出的logits转化为总和为1的概率分布。\n",
    "\n",
    "```python\n",
    "import numpy as np\n",
    "logits = np.array([y1,y2,y3])\n",
    "softmax = np.exp(logits)/np.sum(np.exp(logits))\n",
    "```"
   ]
  },
  {
   "cell_type": "markdown",
   "metadata": {},
   "source": [
    "#### Q4: 简述 normalized_1 和softmax函数的相同点和不同点， 说明softmax相比normalized_1该函数的优势所在\n",
    "```python\n",
    "output = np.array([y1, y2, y3])\n",
    "\n",
    "normalized_1 = output / np.sum(output)\n",
    "```"
   ]
  },
  {
   "cell_type": "markdown",
   "metadata": {},
   "source": [
    "回答：\n",
    "\n",
    "相同点：normalized_1和softmax函数都是数据归一化的方式。\n",
    "\n",
    "不同点：softmax在标准化之前对数据进行了指数转换。\n",
    "\n",
    "softmax的优势：可以处理output中同时存在正负数的情况，数据间评分的概率分布不会在计算时抵消。"
   ]
  },
  {
   "cell_type": "markdown",
   "metadata": {},
   "source": [
    "#### Q5: 写出crossentropy的函数表达式，说明该函数的作用和意义"
   ]
  },
  {
   "cell_type": "markdown",
   "metadata": {},
   "source": [
    "回答：\n",
    "\n",
    "cross_entropy $:= -\\sum_{c=1}^{C}y_{c}\\log{\\hat{y}_{c}}$\n",
    "\n",
    "在分类问题中对比预测值和真实值衡量它们之间的误差。\n"
   ]
  },
  {
   "cell_type": "markdown",
   "metadata": {},
   "source": [
    "### IV 掌握word2vec的基本用法"
   ]
  },
  {
   "cell_type": "markdown",
   "metadata": {},
   "source": [
    "#### Q6: 说明word2vec要解决的问题背景， 以及word2vec的基本思路， 说明word2vec比起之前方法的优势；"
   ]
  },
  {
   "cell_type": "markdown",
   "metadata": {},
   "source": [
    "回答：\n",
    "\n",
    "问题背景：\n",
    "1. 对于简单的方法，词向量化质量低，没有很好地保持不同词语之间的语义关系。\n",
    "2. 过于复杂的方法，当需要向量化的词汇太多时计算量过大，效率低。\n",
    "\n",
    "基本思路：\n",
    "1. 对比不同模型**NNLM**,**RNNLM**的计算复杂度，非线性隐藏层构成了主要的计算复杂度，需要提出一个更有效率的模型。\n",
    "2. Log-linear models:**CBOW**和**Skip-gram**,两个模型的网络结构都相同，都是一层隐藏层作线性投影后再用log-linear输出分类结果,不同的是**CBOW**是用前后内容预测当前词，而**Skip-gram**是用当前词预测围绕再其附近的词。\n",
    "\n",
    "优势：\n",
    "1. 减少了计算复杂度的同时，提高了模型准确率。\n",
    "2. 更进一步地，训练出来的词向量能以简单代数运算的方式表达词义，例如Paris - France + Italy = Rome\n"
   ]
  },
  {
   "cell_type": "markdown",
   "metadata": {},
   "source": [
    "#### Q7: 说明word2vec的预测目标， predication target, 在答案中写出skip-gram和cbow的预测概率；"
   ]
  },
  {
   "cell_type": "markdown",
   "metadata": {},
   "source": [
    "回答： \n",
    "1.  skip-gram, $\\hat{y}= \\{P(w_{t-i}|w_t),P(w_{t-i+1}|w_t),\\cdots P(w_{t-1}|w_t),P(w_{t+1}|w_t) \\cdots ,P(w_{t+i}|w_t)\\}$\n",
    "2.  cbow, $\\hat{y} = P(w_t|w_{t-i},w_{t-i+1},\\cdots w_{t-1},w_{t-1}\\cdots,w_{t+i})$\n",
    "\n",
    "$i$ is window size\n",
    "\n",
    "hints: 你可能需要查询latex的基本写法"
   ]
  },
  {
   "cell_type": "markdown",
   "metadata": {},
   "source": [
    "#### Q8: 请说明word2vec的两种常见优化方法，分别阐述其原理；"
   ]
  },
  {
   "cell_type": "markdown",
   "metadata": {},
   "source": [
    "回答：\n",
    "\n",
    "\n",
    "1. Hierachical softmax. 将原本要预测的词汇集合$V$转化为binary tree的搜索路径，每一个词都对应着一条唯一的路径，预测词出现的概率就相当于预测这条路径出现的概率。这样作当更新参数时，复杂度从原来的$O(V)$减少到了$O(\\log{V})$，大大较少了计算复杂度。\n",
    "\n",
    "2.Negative sampling. 由于需要更新的参数太多，在进行优化时仅仅更新正类和抽样地更新某些负类有关的参数，其中更新的负类可以是随机抽样的，也可以是根据词频调整的函数分布抽样。"
   ]
  },
  {
   "cell_type": "markdown",
   "metadata": {},
   "source": [
    "#### Q9: 请说明word2vec中哈夫曼树的作用；"
   ]
  },
  {
   "cell_type": "markdown",
   "metadata": {},
   "source": [
    "回答：\n",
    "\n",
    "word2vec使用hierachical softmax进行优化时，需要把预测的词汇转化为binary tree，这个时候通常会采用huffman binary tree。在构造huffman binary tree时，出现频率越高的词汇约接近根节点，而出现频率越低的词汇越接近叶节点，并且保证每个父节点都有两个子节点。在计算结果和优化word2vec时需要遍历从根节点到每个子节点的唯一路径，而只有很少的情况下会达到深层的叶子节点，所以huffman binary tree提高了模型的运算效率。"
   ]
  },
  {
   "cell_type": "markdown",
   "metadata": {},
   "source": [
    "#### Q10: 在gensim中如何实现词向量？ 请将gensim中实现词向量的代码置于`答案`中"
   ]
  },
  {
   "cell_type": "markdown",
   "metadata": {},
   "source": [
    "回答：\n",
    "```python\n",
    "from gensim.models import Word2Vec\n",
    "\n",
    "sentence =['some sentences']\n",
    "\n",
    "model = Word2Vec(sentences, min_count=1)\n",
    "\n",
    "```"
   ]
  },
  {
   "cell_type": "markdown",
   "metadata": {},
   "source": [
    "#### Q11: 请说出除了 skip-gram和cbow的其他4中词向量方法的名字， 并且选取其中两个叙述其基本原理。"
   ]
  },
  {
   "cell_type": "markdown",
   "metadata": {},
   "source": [
    "回答：\n",
    "ont-hot,count vector,co-occurrence vector,tf-idf\n",
    "\n",
    "co-occurence vector:\n",
    "在由两个词在窗口范围内共同出现次数构成的矩阵，通过svd变换后求得的词向量。\n",
    "\n",
    "tf-idf: term frequency-inverse document frequency\n",
    "\n",
    "$TF_i = \\frac{c_{i}}{C_d} $ 词i出现在文档中的频率\n",
    "\n",
    "$IDF_i = \\log({\\frac{N}{c_{i \\in d}}} )$ 总文档/词i出现的文档数\n",
    "\n",
    "$TF-IDF_i = TF_i * IDF_i$ "
   ]
  },
  {
   "cell_type": "markdown",
   "metadata": {},
   "source": [
    "### V 掌握keras的基本用法"
   ]
  },
  {
   "cell_type": "markdown",
   "metadata": {},
   "source": [
    "#### Q12. 参考keras参考手册，构建一个机器学习模型，该模型能够完成使用DNN(deep neural networks) 实现MNIST数据集的分类；"
   ]
  },
  {
   "cell_type": "markdown",
   "metadata": {},
   "source": [
    "回答：代码请置于下方：\n",
    "\n",
    "hints:  keras 序列模型构建 https://keras.io/getting-started/sequential-model-guide/ "
   ]
  },
  {
   "cell_type": "code",
   "execution_count": 1,
   "metadata": {},
   "outputs": [],
   "source": [
    "import keras\n",
    "from keras.datasets import mnist\n",
    "from keras.models import Sequential\n",
    "from keras.layers import Dense,Dropout\n",
    "from keras.optimizers import RMSprop\n",
    "import numpy as np"
   ]
  },
  {
   "cell_type": "code",
   "execution_count": 2,
   "metadata": {},
   "outputs": [],
   "source": [
    "batch_size = 128\n",
    "num_classes = 10\n",
    "epochs = 20"
   ]
  },
  {
   "cell_type": "code",
   "execution_count": 9,
   "metadata": {},
   "outputs": [],
   "source": [
    "f=np.load('/Users/mozhiwen/.keras/datasets/mnist/mnist.npz')"
   ]
  },
  {
   "cell_type": "code",
   "execution_count": 36,
   "metadata": {},
   "outputs": [],
   "source": [
    "x_train,y_train,x_test,y_test = f['x_train'],f['y_train'],f['x_test'],f['y_test']"
   ]
  },
  {
   "cell_type": "code",
   "execution_count": 17,
   "metadata": {},
   "outputs": [],
   "source": [
    "img_size = 28"
   ]
  },
  {
   "cell_type": "code",
   "execution_count": 40,
   "metadata": {},
   "outputs": [],
   "source": [
    "def reformat(dataset,labels):\n",
    "    dataset = dataset.reshape(-1,img_size*img_size).astype('float32')\n",
    "    dataset = (dataset-np.min(dataset))/(np.max(dataset)-np.min(dataset))\n",
    "    labels = keras.utils.to_categorical(labels[:,None], num_classes)\n",
    "    return dataset,labels"
   ]
  },
  {
   "cell_type": "code",
   "execution_count": 41,
   "metadata": {},
   "outputs": [
    {
     "name": "stdout",
     "output_type": "stream",
     "text": [
      "60000 train samples\n",
      "10000 test samples\n"
     ]
    }
   ],
   "source": [
    "x_train,y_train = reformat(x_train,y_train)\n",
    "x_test,y_test = reformat(x_test,y_test)\n",
    "print(x_train.shape[0],'train samples')\n",
    "print(x_test.shape[0],'test samples')"
   ]
  },
  {
   "cell_type": "code",
   "execution_count": 27,
   "metadata": {},
   "outputs": [],
   "source": [
    "model = Sequential()\n",
    "model.add(Dense(512,activation='relu',input_shape=(img_size*img_size,)))\n",
    "model.add(Dropout(0.2))\n",
    "model.add(Dense(512,activation='relu'))\n",
    "model.add(Dropout(0.2))\n",
    "model.add(Dense(num_classes,activation='softmax'))"
   ]
  },
  {
   "cell_type": "code",
   "execution_count": 28,
   "metadata": {},
   "outputs": [
    {
     "name": "stdout",
     "output_type": "stream",
     "text": [
      "_________________________________________________________________\n",
      "Layer (type)                 Output Shape              Param #   \n",
      "=================================================================\n",
      "dense_1 (Dense)              (None, 512)               401920    \n",
      "_________________________________________________________________\n",
      "dropout_1 (Dropout)          (None, 512)               0         \n",
      "_________________________________________________________________\n",
      "dense_2 (Dense)              (None, 512)               262656    \n",
      "_________________________________________________________________\n",
      "dropout_2 (Dropout)          (None, 512)               0         \n",
      "_________________________________________________________________\n",
      "dense_3 (Dense)              (None, 10)                5130      \n",
      "=================================================================\n",
      "Total params: 669,706\n",
      "Trainable params: 669,706\n",
      "Non-trainable params: 0\n",
      "_________________________________________________________________\n"
     ]
    }
   ],
   "source": [
    "model.summary()"
   ]
  },
  {
   "cell_type": "code",
   "execution_count": 32,
   "metadata": {},
   "outputs": [],
   "source": [
    "model.compile(loss = 'categorical_crossentropy',\n",
    "              optimizer = RMSprop(),\n",
    "              metrics = ['accuracy'])"
   ]
  },
  {
   "cell_type": "code",
   "execution_count": 45,
   "metadata": {},
   "outputs": [
    {
     "name": "stdout",
     "output_type": "stream",
     "text": [
      "Train on 60000 samples, validate on 10000 samples\n",
      "Epoch 1/20\n",
      "60000/60000 [==============================] - 10s 171us/step - loss: 0.2471 - acc: 0.9237 - val_loss: 0.1005 - val_acc: 0.9687\n",
      "Epoch 2/20\n",
      "60000/60000 [==============================] - 9s 148us/step - loss: 0.1046 - acc: 0.9691 - val_loss: 0.0744 - val_acc: 0.9763\n",
      "Epoch 3/20\n",
      "60000/60000 [==============================] - 9s 152us/step - loss: 0.0769 - acc: 0.9770 - val_loss: 0.0753 - val_acc: 0.9768\n",
      "Epoch 4/20\n",
      "60000/60000 [==============================] - 9s 153us/step - loss: 0.0607 - acc: 0.9817 - val_loss: 0.0773 - val_acc: 0.9802\n",
      "Epoch 5/20\n",
      "60000/60000 [==============================] - 9s 149us/step - loss: 0.0512 - acc: 0.9846 - val_loss: 0.0796 - val_acc: 0.9789\n",
      "Epoch 6/20\n",
      "60000/60000 [==============================] - 9s 154us/step - loss: 0.0433 - acc: 0.9871 - val_loss: 0.0694 - val_acc: 0.9827\n",
      "Epoch 7/20\n",
      "60000/60000 [==============================] - 10s 162us/step - loss: 0.0398 - acc: 0.9889 - val_loss: 0.0777 - val_acc: 0.9825\n",
      "Epoch 8/20\n",
      "60000/60000 [==============================] - 9s 156us/step - loss: 0.0323 - acc: 0.9903 - val_loss: 0.0815 - val_acc: 0.9809\n",
      "Epoch 9/20\n",
      "60000/60000 [==============================] - 10s 160us/step - loss: 0.0323 - acc: 0.9910 - val_loss: 0.0963 - val_acc: 0.9808\n",
      "Epoch 10/20\n",
      "60000/60000 [==============================] - 10s 159us/step - loss: 0.0294 - acc: 0.9910 - val_loss: 0.0860 - val_acc: 0.9819\n",
      "Epoch 11/20\n",
      "60000/60000 [==============================] - 9s 158us/step - loss: 0.0275 - acc: 0.9923 - val_loss: 0.0897 - val_acc: 0.9823\n",
      "Epoch 12/20\n",
      "60000/60000 [==============================] - 10s 167us/step - loss: 0.0250 - acc: 0.9932 - val_loss: 0.1038 - val_acc: 0.9816\n",
      "Epoch 13/20\n",
      "60000/60000 [==============================] - 9s 153us/step - loss: 0.0246 - acc: 0.9931 - val_loss: 0.1057 - val_acc: 0.9825\n",
      "Epoch 14/20\n",
      "60000/60000 [==============================] - 10s 163us/step - loss: 0.0215 - acc: 0.9943 - val_loss: 0.1016 - val_acc: 0.9821\n",
      "Epoch 15/20\n",
      "60000/60000 [==============================] - 10s 169us/step - loss: 0.0241 - acc: 0.9935 - val_loss: 0.1068 - val_acc: 0.9810\n",
      "Epoch 16/20\n",
      "60000/60000 [==============================] - 10s 159us/step - loss: 0.0218 - acc: 0.9941 - val_loss: 0.0926 - val_acc: 0.9847\n",
      "Epoch 17/20\n",
      "60000/60000 [==============================] - 10s 163us/step - loss: 0.0196 - acc: 0.9952 - val_loss: 0.1092 - val_acc: 0.9816\n",
      "Epoch 18/20\n",
      "60000/60000 [==============================] - 10s 163us/step - loss: 0.0221 - acc: 0.9940 - val_loss: 0.1044 - val_acc: 0.9836\n",
      "Epoch 19/20\n",
      "60000/60000 [==============================] - 10s 162us/step - loss: 0.0205 - acc: 0.9946 - val_loss: 0.1141 - val_acc: 0.9848\n",
      "Epoch 20/20\n",
      "60000/60000 [==============================] - 10s 161us/step - loss: 0.0213 - acc: 0.9946 - val_loss: 0.0974 - val_acc: 0.9842\n"
     ]
    }
   ],
   "source": [
    "history = model.fit(x_train,y_train,\n",
    "                    batch_size = batch_size,\n",
    "                    epochs = epochs,\n",
    "                    verbose = 1,\n",
    "                    validation_data=(x_test,y_test))"
   ]
  },
  {
   "cell_type": "code",
   "execution_count": 46,
   "metadata": {},
   "outputs": [],
   "source": [
    "score = model.evaluate(x_test,y_test,verbose=0)"
   ]
  },
  {
   "cell_type": "code",
   "execution_count": 47,
   "metadata": {},
   "outputs": [
    {
     "name": "stdout",
     "output_type": "stream",
     "text": [
      "Test loss: 0.0973729898917102\n",
      "Test accuracy: 0.9842\n"
     ]
    }
   ],
   "source": [
    "print('Test loss:',score[0])\n",
    "print('Test accuracy:',score[1])"
   ]
  },
  {
   "cell_type": "markdown",
   "metadata": {},
   "source": [
    "### VI 掌握tensorflow的基本用法"
   ]
  },
  {
   "cell_type": "markdown",
   "metadata": {},
   "source": [
    "#### Q13: 参考tensorflow的参考手册，构建一个机器学习模型，该模型能够完成使用DNN(deep neural networks)实现MNIST数据集的分类；"
   ]
  },
  {
   "cell_type": "markdown",
   "metadata": {},
   "source": [
    "回答：代码请置于下方：\n",
    "\n",
    "hints:tensorflow实现MNIST https://github.com/tensorflow/tensorflow/blob/master/tensorflow/examples/udacity/2_fullyconnected.ipynb"
   ]
  },
  {
   "cell_type": "code",
   "execution_count": 71,
   "metadata": {},
   "outputs": [],
   "source": [
    "import tensorflow as tf"
   ]
  },
  {
   "cell_type": "code",
   "execution_count": 74,
   "metadata": {},
   "outputs": [],
   "source": [
    "graph = tf.Graph()\n",
    "with graph.as_default():\n",
    "    #input\n",
    "    train_data = tf.placeholder(tf.float32,shape=(None,img_size*img_size))\n",
    "    train_labels = tf.placeholder(tf.float32,shape=(None,num_classes))\n",
    "    keep_prob = tf.placeholder(tf.float32)\n",
    "    test_data = tf.constant(x_test)\n",
    "    test_labels = tf.constant(y_test)\n",
    "    \n",
    "    #variables\n",
    "    w1 = tf.Variable(tf.truncated_normal([img_size * img_size, 512]))\n",
    "    b1 = tf.Variable(tf.zeros([512]))\n",
    "    w2 = tf.Variable(tf.truncated_normal([512, 512]))\n",
    "    b2 = tf.Variable(tf.zeros([512]))\n",
    "    w3 = tf.Variable(tf.truncated_normal([512, num_classes]))\n",
    "    b3 = tf.Variable(tf.zeros([num_classes]))\n",
    "    \n",
    "    #model\n",
    "    layer1 = tf.nn.relu(train_data@w1+b1)\n",
    "    drop_layer1 = tf.nn.dropout(layer1,keep_prob=keep_prob)\n",
    "    layer2 = tf.nn.relu(drop_layer1@w2+b2)\n",
    "    drop_layer2 = tf.nn.dropout(layer2,keep_prob=keep_prob)\n",
    "    logits = drop_layer2@w3+b3\n",
    "    loss = tf.reduce_mean(\n",
    "        tf.nn.softmax_cross_entropy_with_logits(labels=train_labels,logits=logits))\n",
    "    \n",
    "    optimizer = tf.train.RMSPropOptimizer(0.001,decay=0.0).minimize(loss)\n",
    "    \n",
    "    train_prediction = tf.nn.softmax(logits)\n",
    "    \n",
    "    test_out1 = tf.nn.relu(test_data@w1+b1)\n",
    "    test_out2 = tf.nn.relu(test_out1@w2+b2)\n",
    "    test_logits = test_out2@w3+b3\n",
    "    test_loss = tf.reduce_mean(\n",
    "        tf.nn.softmax_cross_entropy_with_logits(labels=test_labels,logits=test_logits))\n",
    "    test_prediction = tf.nn.softmax(test_logits)"
   ]
  },
  {
   "cell_type": "code",
   "execution_count": 75,
   "metadata": {},
   "outputs": [],
   "source": [
    "def get_batches(dataset,labels,batch_size):\n",
    "    batch_num = dataset.shape[0] // batch_size\n",
    "    sample_num = batch_size * batch_num\n",
    "    for i in range(batch_num):\n",
    "        x = dataset[i*batch_size:(i+1)*batch_size,:]\n",
    "        y = labels[i*batch_size:(i+1)*batch_size,:]\n",
    "        yield x,y"
   ]
  },
  {
   "cell_type": "code",
   "execution_count": 76,
   "metadata": {},
   "outputs": [],
   "source": [
    "def accuracy(predictions, labels):\n",
    "  return (100.0 * np.sum(np.argmax(predictions, 1) == np.argmax(labels, 1))\n",
    "          / predictions.shape[0])"
   ]
  },
  {
   "cell_type": "code",
   "execution_count": 77,
   "metadata": {},
   "outputs": [
    {
     "name": "stdout",
     "output_type": "stream",
     "text": [
      "epoch 0 loss: 58.746006 accuracy 90.6%\n",
      "epoch 1 loss: 21.229315 accuracy 93.0%\n",
      "epoch 2 loss: 25.321468 accuracy 92.2%\n",
      "epoch 3 loss: 22.862274 accuracy 93.8%\n",
      "epoch 4 loss: 11.274590 accuracy 94.5%\n",
      "epoch 5 loss: 7.947142 accuracy 96.9%\n",
      "epoch 6 loss: 2.745044 accuracy 97.7%\n",
      "epoch 7 loss: 10.025577 accuracy 96.9%\n",
      "epoch 8 loss: 1.138198 accuracy 97.7%\n",
      "epoch 9 loss: 7.077971 accuracy 97.7%\n",
      "epoch 10 loss: 4.300566 accuracy 96.9%\n",
      "epoch 11 loss: 0.718770 accuracy 98.4%\n",
      "epoch 12 loss: 3.604064 accuracy 97.7%\n",
      "epoch 13 loss: 6.006754 accuracy 96.9%\n",
      "epoch 14 loss: 3.026232 accuracy 96.9%\n",
      "epoch 15 loss: 2.748903 accuracy 98.4%\n",
      "epoch 16 loss: 2.132647 accuracy 98.4%\n",
      "epoch 17 loss: 2.855407 accuracy 96.1%\n",
      "epoch 18 loss: 4.587665 accuracy 96.9%\n",
      "epoch 19 loss: 1.937775 accuracy 96.9%\n",
      "Test loss: 5.906247 accuracy 96.0%\n"
     ]
    }
   ],
   "source": [
    "with tf.Session(graph=graph) as session:\n",
    "    tf.global_variables_initializer().run()\n",
    "    step = 0\n",
    "    for i in range(epochs):\n",
    "        for x,y in get_batches(x_train,y_train,batch_size):\n",
    "            feed_dict = {train_data:x,train_labels:y,keep_prob:0.8}\n",
    "            _,l,predictions = session.run([optimizer,loss,train_prediction],\n",
    "                                                feed_dict=feed_dict)\n",
    "        print('epoch %d loss: %f accuracy %.1f%%' % (i,l,accuracy(predictions, y)))\n",
    "        \n",
    "    print('Test loss: %f accuracy %.1f%%' % (test_loss.eval(),accuracy(test_prediction.eval(), y_test)))\n",
    "            "
   ]
  },
  {
   "cell_type": "markdown",
   "metadata": {},
   "source": [
    "#### Q14: 参考keras和tensorflow对同一问题的实现，说明keras和tensorflow的异同；"
   ]
  },
  {
   "cell_type": "markdown",
   "metadata": {},
   "source": [
    "回答：Q12,Q12分别用keras和tensorflow实现了dnn识别mnist数据集。相同点是都需要自己定义模型的输入输出，损失函数和优化器。不同点是相比起tensorflow，keras提供了许多常用的api，实现起来代码量少，代码实现的模型简洁易懂，比较简便省事，不需要对模型和编程有深入的了解也能使用。而tensrflow相比起来更加强大，提供了很多在keras下无法掌控的个性化的参数设置，实现同一个任务代码量比较多，使用要求对模型和框架理解比较深入。"
   ]
  },
  {
   "cell_type": "markdown",
   "metadata": {},
   "source": [
    "#### Q15: Q12， Q13 的tensorflow 或 keras 模型的训练时准确率和测试集准确率分别是多少？\n",
    "回答：\n",
    "tensorflow：训练准确率：96.9% 测试准确率：96.0%\n",
    "keras：训练准确率：97.4% 测试准确率：98.4%"
   ]
  },
  {
   "cell_type": "markdown",
   "metadata": {},
   "source": [
    "#### Q16: 训练时准确率大于测试集准确率的现象叫什么名字，在神经网络中如何解决该问题？\n",
    "回答：过拟合。使用early stopping,l2-regularization,drop out。"
   ]
  },
  {
   "cell_type": "markdown",
   "metadata": {},
   "source": [
    "#### Q17: 请使用自己的语言简述通过正则化 (regularization)减小过拟合的原理；\n",
    "回答：\n",
    "\n",
    "1. early stopping是在训练时观察training set 和 validation set的表现当validation set的表现无明显提升时停止训练。\n",
    "\n",
    "2. l2-regularizarion,改写loss function为 $loss = f_{loss}+\\lambda\\lVert \\omega \\rVert_{2}^{2} $ 其中$f_{loss}$是未加上正则项之前的loss function，$\\lambda\\lVert \\omega \\rVert_{2}^{2}$是正则项，$\\omega$是模型参数。加上了正则项的训练函数，在训练会权衡误差的下降和参数增加对loss fuction的影响，在下降误差的同时尽量使模型参数变得稀疏，避免过拟合。\n",
    "\n",
    "3. 训练阶段，在深度学习模型层与层的输出和输入之间按比例随机切断一些链接。"
   ]
  },
  {
   "cell_type": "markdown",
   "metadata": {},
   "source": [
    "#### Q18: 在tensorflow官方实例中给出的fully connected 神经网络的分类模型中，数据进行了哪些预处理，这些预处理的原因是什么？ \n",
    "回答：对数据进行了标准化，标准化后的数据不受features单位影响，训练时收敛得比较快。"
   ]
  },
  {
   "cell_type": "markdown",
   "metadata": {},
   "source": [
    "### VII 掌握RNN的基本原理"
   ]
  },
  {
   "cell_type": "markdown",
   "metadata": {},
   "source": [
    "#### Q19: 简述RNN解决的问题所具有的特点；\n",
    "回答：RNN解决问题的特点是，处理的输入或输出数据都是时间或者序列相关，不同时间位置的数据可能相互关联相互影响。"
   ]
  },
  {
   "cell_type": "markdown",
   "metadata": {},
   "source": [
    "#### Q20: 写出RNN实现时间或者序列相关的数学实现(见课程slides)；\n",
    "回答：\n",
    "\n",
    "Elman network:\n",
    "\n",
    "$h_t = \\sigma_{h}({W_hx_t+U_hh_{t-1}+b_h})$\n",
    "\n",
    "$y_t = \\sigma_y(W_yh_t+b_y)$\n",
    "\n",
    "Jordan network:\n",
    "\n",
    "$h_t = \\sigma_h(W_hx_t+U_hy_{t-1}+b_h)$\n",
    "\n",
    "$y_t = \\sigma_y(W_yh_t+b_y)$"
   ]
  },
  {
   "cell_type": "markdown",
   "metadata": {},
   "source": [
    "#### Q20: 简述RNN的两种重要变体的提出原因和基本原理？\n",
    "回答：\n",
    "\n",
    "提出原因：\n",
    "\n",
    "在输入长序列训练RNN时，需要展开计算多次使得RNN变成一个很深层的网络，所以非常容易出现梯度消失或梯度爆炸的问题，而且模型的计算和训练会非常缓慢。另一方面，RNN处理长序列时会丧失长期记忆的能力，序列中较前的输入会逐渐被遗忘，这对模型的效果会造成很大的影响。\n",
    "\n",
    "基本原理:\n",
    "\n",
    "LSTM:\n",
    "\n",
    "- 最主要的一层是$g_t$,这层和基础RNN cell基本相同，都是用过$x_t$和$h_{t-1}$得出结果。\n",
    "在此基础上还有三种gate contrillers，用sigmoid函数输出0-1的结果来控制输入输出。\n",
    "- forget gate 控制长期记忆中的哪些部分需要舍弃\n",
    "- input gate 控制 $g_t$中的哪些部分需要加到长期记忆中\n",
    "- output gate 控制更新后的长期记忆哪一部分输出到$h_t$,$y_t$中\n",
    "\n",
    "GRU:\n",
    "\n",
    "- GRU是LSTM的精简版，它把长短期记忆都融合成一个状态$h_t$\n",
    "- 由一个controller同时控制forget gate和input gate\n",
    "- 没有output gate 状态会根据序列时间改变\n"
   ]
  },
  {
   "cell_type": "markdown",
   "metadata": {},
   "source": [
    "#### Q21: Attentional RNN 以及 Stacked RNN 和 Bi-RNN 分别是什么，其做了什么改动？\n",
    "回答：\n",
    "\n",
    "Attentional RNN:  \n",
    "\n",
    "在计算输出值时的在考虑原有输入的同时，加入了context vector $s_{i-1} = f(s_{i-1},y_{i-1},c_i)$,其中$c_i$是源输入的$h_t$的加权平均$c_i = \\sum_{j=1}^{T_x}\\alpha_{ij}h_j$,而$\\alpha_{ij} = softmax(e_{ij})$, $e_{ij} = a(s_{i-1},h_j)$,其中a是一个全链接神经网络。这样做可以建立在计算输出时，建立与源输入的联系，并且专注与这一时刻有用的信息。  \n",
    "\n",
    "Stacked RNN:\n",
    "\n",
    "可以理解为RNN cell的堆叠，t时刻的的输出不仅仅是t+1时刻的输入，同时候也是下一层RNN cell的输入，这样可以根据需要增加网络深度。  \n",
    "\n",
    "Bi-RNN:\n",
    "\n",
    "在原有RNN的基础上，计算从后往前的RNN cell，t时刻的预测值就包含了输入序列的前后信息。t时刻的预测可表示为$\\hat{y_t} = \\sigma_y(w_y[\\overrightarrow{h_t},\\overleftarrow{h_t}]+b_y)$"
   ]
  },
  {
   "cell_type": "markdown",
   "metadata": {},
   "source": [
    "## 第二部分： 实验过程"
   ]
  },
  {
   "cell_type": "markdown",
   "metadata": {},
   "source": [
    "### IIX 数据预处理"
   ]
  },
  {
   "cell_type": "markdown",
   "metadata": {},
   "source": [
    "#### Q22：要实现文本分类或情感分类，文本信息需要进行哪些初始化操作？自己手工实现，keras提供的API，tenorflow提供的API，分别是哪些？请提供关键代码置于下边`回答`中"
   ]
  },
  {
   "cell_type": "markdown",
   "metadata": {},
   "source": [
    "回答：\n",
    "\n",
    "1. 简述所需要的初始化操作：  \n",
    "    + 切分词，可根据需要去掉停用词或标点符号\n",
    "    + 构造word-id，id-word的hash表\n",
    "    + 用构造的hash表把句子转化成整数序列\n",
    "    + 准备好预训练的embedding(optional)\n",
    "    + 构造batch函数决定如何输入训练数据  \n",
    "    \n",
    "切分词使用jieba分词\n",
    "\n",
    "keras提供的api：\n",
    "+ keras.preprocessing.text 提供Tokenizer类可以文本构造需要的hash表并把句子转化为整数序列\n",
    "+ keras.preprocessing.sequence 提供pad_sequence函数为序列提供padding\n",
    "+ mini-batch：keras在训练时只需要指定batch size即可，也可以根据自己的需要写一个generator输入训练数据\n",
    "\n",
    "tensorflow提供的api： \n",
    "+ tensorflow 集成了keras的api，对于文本处理大同小异\n",
    "+ 训练时需要自定义batch函数，一般是写一个generator生成需要的训练数据\n",
    "\n",
    "\n",
    "2. 自己手工实现的id_to_word, word_to_id, padding, batched等操作如何实现？\n",
    "    + id_to_word, word_to_id\n",
    "    \n",
    "    ```python\n",
    "        word_count = Counter()\n",
    "    for s in movie_comments['word_sequence']:\n",
    "        for w in s.split():\n",
    "            word_count[w] += 1\n",
    "\n",
    "    id_to_word = {}\n",
    "    id_to_word[0] = '<PAD>'\n",
    "    for i,w in enumerate(word_count,1):id_to_word[i] = w\n",
    "\n",
    "    word_to_id = {w:i for i,w in id_to_word.items()}```\n",
    "    + padding\n",
    "    \n",
    "    ```python\n",
    "    def pad_sequence(word_sequence,maxlength):\n",
    "    \n",
    "        pad_sequence = np.zeros((len(word_sequence),maxlength),dtype=np.int32)\n",
    "        for ri,row in enumerate(word_sequence):\n",
    "            for ci,w in enumerate(row.split()[:maxlength]):\n",
    "                pad_sequence[ri,ci] = word_to_id[w]\n",
    "        return pad_sequence\n",
    "        \n",
    "    sequence = pad_sequence(movie_comments['word_sequence'],50)\n",
    "    ```\n",
    "    \n",
    "    + batched\n",
    "    \n",
    "    ```python\n",
    "    star = movie_comments['star'].values\n",
    "    star = star.astype(np.int32)\n",
    "    sub_one = np.vectorize(lambda x:x-1)\n",
    "    star = sub_one(star)\n",
    "\n",
    "    onehot_star = np.eye(5)[star]\n",
    "\n",
    "    def get_sequence_batches(datasets,labels,batch_size):\n",
    "        assert datasets.shape[0] == labels.shape[0]\n",
    "        batch_num = datasets.shape[0] // batch_size\n",
    "        datasets_cut = datasets[:batch_num*batch_size,:]\n",
    "        last_datasets = datasets[batch_num*batch_size:,:]\n",
    "        labels_cut = labels[:batch_num*batch_size,:]\n",
    "        last_labels = labels[batch_num*batch_size:,:]\n",
    "    \n",
    "    for i in range(batch_num+1):\n",
    "        if i == batch_num:\n",
    "            yield last_datasets,last_labels\n",
    "            break\n",
    "        x = datasets_cut[i*batch_size:(i+1)*batch_size,:]\n",
    "        y = labels_cut[i*batch_size:(i+1)*batch_size,:]\n",
    "        yield x,y\n",
    "    ```"
   ]
  },
  {
   "cell_type": "markdown",
   "metadata": {},
   "source": [
    "hints: \n",
    "\n",
    "+ 参考1 https://github.com/keras-team/keras/blob/master/examples/imdb_lstm.py\n",
    "+ 参考2 \n",
    "\n",
    "---"
   ]
  },
  {
   "cell_type": "markdown",
   "metadata": {},
   "source": [
    "## code for sentimental analysis(preprocessing)\n"
   ]
  },
  {
   "cell_type": "code",
   "execution_count": 177,
   "metadata": {},
   "outputs": [],
   "source": [
    "import pandas as pd\n",
    "import jieba"
   ]
  },
  {
   "cell_type": "markdown",
   "metadata": {},
   "source": [
    "### word to id,id to word"
   ]
  },
  {
   "cell_type": "code",
   "execution_count": 178,
   "metadata": {},
   "outputs": [
    {
     "name": "stderr",
     "output_type": "stream",
     "text": [
      "/Users/mozhiwen/anaconda3/envs/nlp/lib/python3.6/site-packages/IPython/core/interactiveshell.py:2785: DtypeWarning: Columns (0,4) have mixed types. Specify dtype option on import or set low_memory=False.\n",
      "  interactivity=interactivity, compiler=compiler, result=result)\n"
     ]
    }
   ],
   "source": [
    "movie_comments = pd.read_csv('./movie_comments.csv')"
   ]
  },
  {
   "cell_type": "code",
   "execution_count": 179,
   "metadata": {},
   "outputs": [],
   "source": [
    "movie_comments = movie_comments.dropna(subset=['comment','star'])"
   ]
  },
  {
   "cell_type": "code",
   "execution_count": 180,
   "metadata": {},
   "outputs": [],
   "source": [
    "movie_comments = movie_comments.drop(568,axis=0)"
   ]
  },
  {
   "cell_type": "code",
   "execution_count": 181,
   "metadata": {},
   "outputs": [
    {
     "data": {
      "text/html": [
       "<div>\n",
       "<style scoped>\n",
       "    .dataframe tbody tr th:only-of-type {\n",
       "        vertical-align: middle;\n",
       "    }\n",
       "\n",
       "    .dataframe tbody tr th {\n",
       "        vertical-align: top;\n",
       "    }\n",
       "\n",
       "    .dataframe thead th {\n",
       "        text-align: right;\n",
       "    }\n",
       "</style>\n",
       "<table border=\"1\" class=\"dataframe\">\n",
       "  <thead>\n",
       "    <tr style=\"text-align: right;\">\n",
       "      <th></th>\n",
       "      <th>id</th>\n",
       "      <th>link</th>\n",
       "      <th>name</th>\n",
       "      <th>comment</th>\n",
       "      <th>star</th>\n",
       "    </tr>\n",
       "  </thead>\n",
       "  <tbody>\n",
       "    <tr>\n",
       "      <th>0</th>\n",
       "      <td>1</td>\n",
       "      <td>https://movie.douban.com/subject/26363254/</td>\n",
       "      <td>战狼2</td>\n",
       "      <td>吴京意淫到了脑残的地步，看了恶心想吐</td>\n",
       "      <td>1</td>\n",
       "    </tr>\n",
       "    <tr>\n",
       "      <th>1</th>\n",
       "      <td>2</td>\n",
       "      <td>https://movie.douban.com/subject/26363254/</td>\n",
       "      <td>战狼2</td>\n",
       "      <td>首映礼看的。太恐怖了这个电影，不讲道理的，完全就是吴京在实现他这个小粉红的英雄梦。各种装备轮...</td>\n",
       "      <td>2</td>\n",
       "    </tr>\n",
       "    <tr>\n",
       "      <th>2</th>\n",
       "      <td>3</td>\n",
       "      <td>https://movie.douban.com/subject/26363254/</td>\n",
       "      <td>战狼2</td>\n",
       "      <td>吴京的炒作水平不输冯小刚，但小刚至少不会用主旋律来炒作…吴京让人看了不舒服，为了主旋律而主旋...</td>\n",
       "      <td>2</td>\n",
       "    </tr>\n",
       "    <tr>\n",
       "      <th>3</th>\n",
       "      <td>4</td>\n",
       "      <td>https://movie.douban.com/subject/26363254/</td>\n",
       "      <td>战狼2</td>\n",
       "      <td>凭良心说，好看到不像《战狼1》的续集，完虐《湄公河行动》。</td>\n",
       "      <td>4</td>\n",
       "    </tr>\n",
       "    <tr>\n",
       "      <th>4</th>\n",
       "      <td>5</td>\n",
       "      <td>https://movie.douban.com/subject/26363254/</td>\n",
       "      <td>战狼2</td>\n",
       "      <td>中二得很</td>\n",
       "      <td>1</td>\n",
       "    </tr>\n",
       "  </tbody>\n",
       "</table>\n",
       "</div>"
      ],
      "text/plain": [
       "  id                                        link name  \\\n",
       "0  1  https://movie.douban.com/subject/26363254/  战狼2   \n",
       "1  2  https://movie.douban.com/subject/26363254/  战狼2   \n",
       "2  3  https://movie.douban.com/subject/26363254/  战狼2   \n",
       "3  4  https://movie.douban.com/subject/26363254/  战狼2   \n",
       "4  5  https://movie.douban.com/subject/26363254/  战狼2   \n",
       "\n",
       "                                             comment star  \n",
       "0                                 吴京意淫到了脑残的地步，看了恶心想吐    1  \n",
       "1  首映礼看的。太恐怖了这个电影，不讲道理的，完全就是吴京在实现他这个小粉红的英雄梦。各种装备轮...    2  \n",
       "2  吴京的炒作水平不输冯小刚，但小刚至少不会用主旋律来炒作…吴京让人看了不舒服，为了主旋律而主旋...    2  \n",
       "3                      凭良心说，好看到不像《战狼1》的续集，完虐《湄公河行动》。    4  \n",
       "4                                               中二得很    1  "
      ]
     },
     "execution_count": 181,
     "metadata": {},
     "output_type": "execute_result"
    }
   ],
   "source": [
    "movie_comments.head()"
   ]
  },
  {
   "cell_type": "code",
   "execution_count": 182,
   "metadata": {},
   "outputs": [],
   "source": [
    "def cut(string): return ' '.join([w for w in jieba.cut(string)])"
   ]
  },
  {
   "cell_type": "code",
   "execution_count": 183,
   "metadata": {},
   "outputs": [],
   "source": [
    "movie_comments['word_sequence'] = movie_comments.comment.apply(cut)"
   ]
  },
  {
   "cell_type": "code",
   "execution_count": 184,
   "metadata": {},
   "outputs": [],
   "source": [
    "from collections import Counter"
   ]
  },
  {
   "cell_type": "code",
   "execution_count": 185,
   "metadata": {},
   "outputs": [],
   "source": [
    "word_count = Counter()\n",
    "for s in movie_comments['word_sequence']:\n",
    "    for w in s.split():\n",
    "        word_count[w] += 1"
   ]
  },
  {
   "cell_type": "code",
   "execution_count": 186,
   "metadata": {},
   "outputs": [
    {
     "data": {
      "text/plain": [
       "Counter({'吴京': 277,\n",
       "         '意淫': 281,\n",
       "         '到': 10354,\n",
       "         '了': 102408,\n",
       "         '脑残': 314,\n",
       "         '的': 328305,\n",
       "         '地步': 197,\n",
       "         '，': 353805,\n",
       "         '看': 34366,\n",
       "         '恶心': 929,\n",
       "         '想': 7470,\n",
       "         '吐': 574,\n",
       "         '首映礼': 41,\n",
       "         '。': 219514,\n",
       "         '太': 12922,\n",
       "         '恐怖': 601,\n",
       "         '这个': 10056,\n",
       "         '电影': 33753,\n",
       "         '不讲道理': 8,\n",
       "         '完全': 4152,\n",
       "         '就是': 14016,\n",
       "         '在': 31243,\n",
       "         '实现': 264,\n",
       "         '他': 10640,\n",
       "         '小': 6659,\n",
       "         '粉红': 39,\n",
       "         '英雄': 1708,\n",
       "         '梦': 852,\n",
       "         '各种': 3085,\n",
       "         '装备': 82,\n",
       "         '轮番': 19,\n",
       "         '上场': 17,\n",
       "         '视': 28,\n",
       "         '物理': 64,\n",
       "         '逻辑': 1402,\n",
       "         '于': 1732,\n",
       "         '不顾': 57,\n",
       "         '不得不': 670,\n",
       "         '说': 10796,\n",
       "         '有钱': 199,\n",
       "         '真': 5238,\n",
       "         '好': 23231,\n",
       "         '随意': 168,\n",
       "         '胡闹': 44,\n",
       "         '炒作': 70,\n",
       "         '水平': 820,\n",
       "         '不输': 48,\n",
       "         '冯小刚': 265,\n",
       "         '但小刚': 1,\n",
       "         '至少': 912,\n",
       "         '不会': 2593,\n",
       "         '用': 3922,\n",
       "         '主旋律': 928,\n",
       "         '来': 5094,\n",
       "         '…': 26199,\n",
       "         '让': 13328,\n",
       "         '人': 24218,\n",
       "         '不': 28449,\n",
       "         '舒服': 611,\n",
       "         '为了': 3426,\n",
       "         '而': 6528,\n",
       "         '煽情': 1186,\n",
       "         '觉得': 8626,\n",
       "         '是': 72749,\n",
       "         '个': 6509,\n",
       "         '大': 5909,\n",
       "         '做作': 839,\n",
       "         '、': 18329,\n",
       "         '谎言': 252,\n",
       "         '家': 572,\n",
       "         '（': 4911,\n",
       "         '7.29': 1,\n",
       "         '更新': 87,\n",
       "         '）': 4618,\n",
       "         '片子': 9594,\n",
       "         '整体': 1366,\n",
       "         '不如': 1814,\n",
       "         '湄公河': 57,\n",
       "         '行动': 173,\n",
       "         '1': 3156,\n",
       "         '.': 14296,\n",
       "         '不够': 1772,\n",
       "         '流畅': 684,\n",
       "         '编剧': 2218,\n",
       "         '有毒': 38,\n",
       "         '台词': 2322,\n",
       "         '尴尬': 1649,\n",
       "         '；': 5322,\n",
       "         '2': 3314,\n",
       "         '刻意': 1042,\n",
       "         '显得': 1055,\n",
       "         '如此': 2689,\n",
       "         '不合时宜': 33,\n",
       "         '又': 11556,\n",
       "         '多余': 293,\n",
       "         '凭良心说': 3,\n",
       "         '看到': 5460,\n",
       "         '不像': 278,\n",
       "         '《': 12004,\n",
       "         '战狼': 36,\n",
       "         '》': 12003,\n",
       "         '续集': 696,\n",
       "         '完虐': 7,\n",
       "         '中二得': 5,\n",
       "         '很': 34681,\n",
       "         '“': 11369,\n",
       "         '犯': 182,\n",
       "         '我': 49980,\n",
       "         '中华': 53,\n",
       "         '者': 544,\n",
       "         '虽远必': 22,\n",
       "         '诛': 33,\n",
       "         '”': 11160,\n",
       "         '比': 6267,\n",
       "         '这句': 222,\n",
       "         '话': 1723,\n",
       "         '还要': 760,\n",
       "         '一百倍': 14,\n",
       "         '脑子': 293,\n",
       "         '东西': 2231,\n",
       "         '希望': 1965,\n",
       "         '们': 2405,\n",
       "         '都': 36283,\n",
       "         '能': 9580,\n",
       "         '有': 27965,\n",
       "         '三星': 2055,\n",
       "         '半': 2035,\n",
       "         '实打实': 25,\n",
       "         '7': 802,\n",
       "         '分': 2957,\n",
       "         '第一集': 211,\n",
       "         '爱国': 132,\n",
       "         '内部': 114,\n",
       "         '做': 4423,\n",
       "         '着': 6990,\n",
       "         '置换': 18,\n",
       "         '与': 9163,\n",
       "         '较劲': 17,\n",
       "         '但': 15496,\n",
       "         '第二集': 69,\n",
       "         '才': 4959,\n",
       "         '真正': 1484,\n",
       "         '显露': 15,\n",
       "         '野心': 262,\n",
       "         '终于': 1715,\n",
       "         '抛弃': 218,\n",
       "         '李忠志': 2,\n",
       "         '新增': 7,\n",
       "         '外来': 27,\n",
       "         '班底': 73,\n",
       "         '硬件': 24,\n",
       "         '实力': 188,\n",
       "         '机会': 376,\n",
       "         '和': 31316,\n",
       "         '国际': 200,\n",
       "         '接轨': 6,\n",
       "         '开篇': 193,\n",
       "         '水下': 33,\n",
       "         '长镜头': 670,\n",
       "         '诸如': 40,\n",
       "         '铁丝网': 3,\n",
       "         '拦截': 7,\n",
       "         'RPG': 16,\n",
       "         '弹头': 8,\n",
       "         '细节': 2211,\n",
       "         '设计': 1140,\n",
       "         '国产': 1115,\n",
       "         '动作片': 1080,\n",
       "         '重新': 452,\n",
       "         '封顶': 4,\n",
       "         '理念': 113,\n",
       "         '上': 10113,\n",
       "         '它': 3298,\n",
       "         '甚至': 1278,\n",
       "         '做到': 533,\n",
       "         '绣春刀': 37,\n",
       "         '最': 8641,\n",
       "         '想做到': 5,\n",
       "         '那': 7450,\n",
       "         '部分': 1953,\n",
       "         '惊险': 101,\n",
       "         '大气': 181,\n",
       "         '引人入胜': 100,\n",
       "         '结合': 398,\n",
       "         '不俗': 76,\n",
       "         '快': 1207,\n",
       "         '剪下': 2,\n",
       "         '真刀真枪': 4,\n",
       "         '不禁': 137,\n",
       "         '热血沸腾': 223,\n",
       "         '特别': 2609,\n",
       "         '弹簧床': 3,\n",
       "         '架': 62,\n",
       "         '挡': 70,\n",
       "         '炸弹': 97,\n",
       "         '空手': 9,\n",
       "         '接': 333,\n",
       "         '碎玻璃': 4,\n",
       "         '弹匣': 2,\n",
       "         '割喉': 11,\n",
       "         '等': 1777,\n",
       "         '帅': 1039,\n",
       "         '得': 10095,\n",
       "         '飞起': 35,\n",
       "         '！': 55075,\n",
       "         '就算': 902,\n",
       "         '前半段': 588,\n",
       "         '铺垫': 578,\n",
       "         '节奏': 3415,\n",
       "         '散漫': 64,\n",
       "         '主角': 2141,\n",
       "         '光环': 210,\n",
       "         '开太大': 3,\n",
       "         '也': 32055,\n",
       "         '不怕': 135,\n",
       "         '作为': 2348,\n",
       "         '一个': 17343,\n",
       "         '中国': 3512,\n",
       "         '两个': 2870,\n",
       "         '小时': 1771,\n",
       "         '弥漫着': 37,\n",
       "         '强大': 674,\n",
       "         '不可': 522,\n",
       "         '侵犯': 24,\n",
       "         '氛围': 544,\n",
       "         '还是': 16426,\n",
       "         '那颗': 47,\n",
       "         '民族': 333,\n",
       "         '自豪': 24,\n",
       "         '心': 1097,\n",
       "         '砰砰': 53,\n",
       "         '砰': 58,\n",
       "         '跳个': 1,\n",
       "         '不停': 436,\n",
       "         '15': 297,\n",
       "         '/': 6322,\n",
       "         '100': 325,\n",
       "         '冷峰': 1,\n",
       "         '这部': 7434,\n",
       "         '里': 7773,\n",
       "         '即': 374,\n",
       "         '像': 5732,\n",
       "         '成龙': 873,\n",
       "         '像杰': 2,\n",
       "         '森斯坦': 150,\n",
       "         '森': 157,\n",
       "         '体制': 203,\n",
       "         '外': 494,\n",
       "         '同': 550,\n",
       "         '类型': 1474,\n",
       "         '总是': 1924,\n",
       "         '代表': 471,\n",
       "         '个人': 1690,\n",
       "         '无能': 180,\n",
       "         '政府': 247,\n",
       "         '需要': 1821,\n",
       "         '求助于': 4,\n",
       "         '这些': 1438,\n",
       "         '才能': 836,\n",
       "         '解决': 276,\n",
       "         '难题': 52,\n",
       "         '体现': 427,\n",
       "         '价值': 320,\n",
       "         '所以': 2768,\n",
       "         '照抄': 24,\n",
       "         '这种': 6377,\n",
       "         '模式': 481,\n",
       "         '实际上': 184,\n",
       "         '问题': 2325,\n",
       "         '我们': 5875,\n",
       "         '以前': 1095,\n",
       "         '嘲笑': 88,\n",
       "         '英雄主义': 282,\n",
       "         '却': 5979,\n",
       "         '没想到': 920,\n",
       "         '捆绑': 32,\n",
       "         '爱国主义': 86,\n",
       "         '全能': 17,\n",
       "         '战士': 108,\n",
       "         '更加': 722,\n",
       "         '难以': 469,\n",
       "         '下咽': 11,\n",
       "         '多': 9221,\n",
       "         '无脑': 254,\n",
       "         '信': 221,\n",
       "         '戏': 3587,\n",
       "         '对': 9854,\n",
       "         '吴京路': 1,\n",
       "         '转粉': 31,\n",
       "         '最后': 9692,\n",
       "         '彩蛋': 561,\n",
       "         '没有': 14343,\n",
       "         '理由': 375,\n",
       "         '期待': 1442,\n",
       "         '下': 3557,\n",
       "         '一部': 9691,\n",
       "         '假': 662,\n",
       "         '嗨': 215,\n",
       "         '几处': 170,\n",
       "         '情节': 3909,\n",
       "         '设置': 511,\n",
       "         '过于': 987,\n",
       "         '彰显': 64,\n",
       "         '国家': 805,\n",
       "         '自豪感': 5,\n",
       "         '稍显': 196,\n",
       "         '突兀': 390,\n",
       "         '爽片': 23,\n",
       "         '打戏': 349,\n",
       "         '挺燃': 12,\n",
       "         '但是': 7720,\n",
       "         '故事': 15050,\n",
       "         '一般': 3549,\n",
       "         '达康': 13,\n",
       "         '书记': 19,\n",
       "         '合适': 286,\n",
       "         '角色': 3732,\n",
       "         '赵': 45,\n",
       "         '东来': 11,\n",
       "         '倒': 1608,\n",
       "         '张瀚': 6,\n",
       "         '太太': 199,\n",
       "         '太违': 15,\n",
       "         '分钟': 1792,\n",
       "         '穿越': 531,\n",
       "         '回': 398,\n",
       "         '偶像剧': 109,\n",
       "         '：': 6359,\n",
       "         '接到': 24,\n",
       "         '非洲': 134,\n",
       "         '卧底': 184,\n",
       "         '冷锋': 13,\n",
       "         '报告': 26,\n",
       "         '丁义珍': 6,\n",
       "         '现在': 3653,\n",
       "         '请求': 13,\n",
       "         '抓捕': 8,\n",
       "         '李达康': 4,\n",
       "         '这件': 109,\n",
       "         '事先': 24,\n",
       "         '不要': 2513,\n",
       "         '声张': 4,\n",
       "         '别': 713,\n",
       "         '省厅': 3,\n",
       "         '知道': 5386,\n",
       "         '就': 25662,\n",
       "         '你': 17229,\n",
       "         '一起': 2806,\n",
       "         '去': 7322,\n",
       "         '加上': 901,\n",
       "         '同志': 271,\n",
       "         '三人': 130,\n",
       "         '逮捕': 12,\n",
       "         '这次': 902,\n",
       "         '行': 1001,\n",
       "         '叫': 2033,\n",
       "         '吧': 10752,\n",
       "         '拍': 8196,\n",
       "         '喜剧': 2673,\n",
       "         '整个': 1723,\n",
       "         '感觉': 7829,\n",
       "         '挺': 6247,\n",
       "         '搞笑': 2401,\n",
       "         '这么': 6780,\n",
       "         '打': 3967,\n",
       "         '过': 3482,\n",
       "         '徐晓冬': 1,\n",
       "         '么': 3507,\n",
       "         '？': 19222,\n",
       "         '心往': 3,\n",
       "         '一处': 73,\n",
       "         '劲往': 3,\n",
       "         '使': 489,\n",
       "         '梦想': 1163,\n",
       "         '看吧': 155,\n",
       "         '第一部': 2317,\n",
       "         '好太多': 89,\n",
       "         '谢谢': 230,\n",
       "         '美队': 124,\n",
       "         '动作': 3323,\n",
       "         '指导': 119,\n",
       "         '这': 16928,\n",
       "         '火': 179,\n",
       "         '没见识': 5,\n",
       "         '开头': 1308,\n",
       "         '长': 1065,\n",
       "         '对决': 207,\n",
       "         '戏可算': 1,\n",
       "         '华语': 286,\n",
       "         '顶尖': 27,\n",
       "         '存在': 1298,\n",
       "         '驱逐舰': 4,\n",
       "         '导弹': 25,\n",
       "         '坦克': 216,\n",
       "         '商业片': 538,\n",
       "         '狂用': 1,\n",
       "         '镜头': 4162,\n",
       "         '运用': 378,\n",
       "         '笑': 3738,\n",
       "         '点': 3643,\n",
       "         '插入': 85,\n",
       "         '好莱坞': 1230,\n",
       "         '爆米花': 567,\n",
       "         '不功': 27,\n",
       "         '不过': 6295,\n",
       "         '从头': 335,\n",
       "         '打到': 68,\n",
       "         '尾': 360,\n",
       "         '拼': 315,\n",
       "         '虽然': 5633,\n",
       "         '有略': 4,\n",
       "         '乱': 683,\n",
       "         '时': 2852,\n",
       "         '因为': 3937,\n",
       "         '没': 10869,\n",
       "         '啥': 1879,\n",
       "         '期望值': 56,\n",
       "         '被': 9937,\n",
       "         '吓了一跳': 10,\n",
       "         '吴刚': 10,\n",
       "         '谦和': 6,\n",
       "         '丁海峰': 1,\n",
       "         '老': 3020,\n",
       "         '三位': 112,\n",
       "         '炖': 43,\n",
       "         '烂熟': 8,\n",
       "         '牛筋': 1,\n",
       "         '嚼': 52,\n",
       "         '用心': 635,\n",
       "         '啊': 20859,\n",
       "         '导演': 8379,\n",
       "         '小看': 21,\n",
       "         '确实': 2127,\n",
       "         '下功夫': 27,\n",
       "         '拉': 401,\n",
       "         '借鉴': 171,\n",
       "         '至于': 459,\n",
       "         '大家': 1361,\n",
       "         '比较': 3216,\n",
       "         '反感': 144,\n",
       "         '情绪': 1016,\n",
       "         '那些': 2407,\n",
       "         '桥段': 931,\n",
       "         '必备': 55,\n",
       "         '稍微': 405,\n",
       "         '一点': 2909,\n",
       "         '还': 17504,\n",
       "         '可以': 8972,\n",
       "         '接受': 927,\n",
       "         '最好': 1951,\n",
       "         '地方': 2173,\n",
       "         '掌握': 151,\n",
       "         '张弛': 66,\n",
       "         '有度': 61,\n",
       "         '这点': 274,\n",
       "         '难得': 860,\n",
       "         '一直': 3317,\n",
       "         '脑子里': 61,\n",
       "         '回响': 36,\n",
       "         '片头': 343,\n",
       "         '海里': 23,\n",
       "         '那场': 472,\n",
       "         '戏看': 22,\n",
       "         '完': 5021,\n",
       "         '呆': 248,\n",
       "         '下去': 879,\n",
       "         '太假': 204,\n",
       "         '提前': 195,\n",
       "         '离场': 127,\n",
       "         '好看': 8062,\n",
       "         '演技': 5632,\n",
       "         '棒呆': 34,\n",
       "         '符合': 414,\n",
       "         '反而': 828,\n",
       "         '更': 6114,\n",
       "         '差': 1716,\n",
       "         '这一': 119,\n",
       "         '放之四海而皆准': 3,\n",
       "         '规律': 29,\n",
       "         '场面': 2232,\n",
       "         '越做越': 10,\n",
       "         '然而': 793,\n",
       "         '伴随': 121,\n",
       "         '特效': 1979,\n",
       "         '升级': 123,\n",
       "         '叙事': 2020,\n",
       "         '变得': 569,\n",
       "         '非常': 4863,\n",
       "         '凌乱': 209,\n",
       "         '格局': 339,\n",
       "         '颇': 361,\n",
       "         '拍成': 472,\n",
       "         '黑鹰坠落': 30,\n",
       "         '结果': 1755,\n",
       "         '撑死': 16,\n",
       "         '最多': 100,\n",
       "         '只是': 4107,\n",
       "         '官方': 66,\n",
       "         '版': 2206,\n",
       "         '敢死队': 63,\n",
       "         '但论': 8,\n",
       "         '自我': 771,\n",
       "         '角色定位': 15,\n",
       "         '能力': 616,\n",
       "         '远': 366,\n",
       "         '如同': 318,\n",
       "         '演员': 5352,\n",
       "         '出身': 113,\n",
       "         '甄子丹': 389,\n",
       "         '喜欢': 13561,\n",
       "         '不是': 8792,\n",
       "         '装傻': 30,\n",
       "         '真傻': 18,\n",
       "         '要不是': 329,\n",
       "         '真的': 7915,\n",
       "         '别的': 433,\n",
       "         '可': 2120,\n",
       "         '肯定': 756,\n",
       "         '选': 303,\n",
       "         '直男癌': 59,\n",
       "         '令人发指': 103,\n",
       "         '所有': 2057,\n",
       "         '剧情': 11373,\n",
       "         '走向': 374,\n",
       "         '九十年代': 112,\n",
       "         '那套': 56,\n",
       "         '照搬': 101,\n",
       "         '审美': 264,\n",
       "         '事儿': 316,\n",
       "         '一时半会儿': 2,\n",
       "         '培养': 50,\n",
       "         '出来': 3315,\n",
       "         '整部': 1077,\n",
       "         '延续': 357,\n",
       "         '风格': 2743,\n",
       "         '热血': 744,\n",
       "         '要': 8091,\n",
       "         '不错': 10416,\n",
       "         '适合': 1802,\n",
       "         '演': 3412,\n",
       "         '军人': 76,\n",
       "         '之前': 1519,\n",
       "         '片段': 555,\n",
       "         '念': 133,\n",
       "         '劲儿': 129,\n",
       "         '来说': 1505,\n",
       "         '张翰太违': 1,\n",
       "         '一': 3696,\n",
       "         '一股': 329,\n",
       "         '雷阵雨': 3,\n",
       "         '画风': 440,\n",
       "         '目瞪狗': 2,\n",
       "         '瘠薄': 3,\n",
       "         '人牛': 5,\n",
       "         'b': 154,\n",
       "         '硬道理': 18,\n",
       "         '隔壁': 128,\n",
       "         '建军': 6,\n",
       "         '大爷': 190,\n",
       "         '你们': 1806,\n",
       "         '场景': 1620,\n",
       "         '战斗': 346,\n",
       "         '全线': 14,\n",
       "         '打斗': 1139,\n",
       "         '游走': 49,\n",
       "         '审查': 130,\n",
       "         '红线': 12,\n",
       "         '边界': 27,\n",
       "         '政治': 1053,\n",
       "         '安全': 124,\n",
       "         '缝隙': 15,\n",
       "         '部': 851,\n",
       "         '极具': 152,\n",
       "         '煽动': 33,\n",
       "         '大片': 1043,\n",
       "         '制作': 1189,\n",
       "         '精良': 215,\n",
       "         '影片': 4879,\n",
       "         '请': 932,\n",
       "         '多来': 7,\n",
       "         '胶卷': 17,\n",
       "         '挺差': 9,\n",
       "         '过度': 256,\n",
       "         '部队': 81,\n",
       "         '没太多': 37,\n",
       "         '展示': 353,\n",
       "         '死去': 247,\n",
       "         '反正': 625,\n",
       "         '吸引': 807,\n",
       "         '冲': 249,\n",
       "         '为什么': 3172,\n",
       "         '鄙视': 85,\n",
       "         '敢': 351,\n",
       "         '开拓': 23,\n",
       "         '允许': 67,\n",
       "         '他们': 3037,\n",
       "         '再': 5338,\n",
       "         '直到': 337,\n",
       "         '更好': 1000,\n",
       "         '拍出': 585,\n",
       "         '棒': 1010,\n",
       "         '出彩': 1005,\n",
       "         '呢': 4502,\n",
       "         '火爆': 196,\n",
       "         '本片': 1954,\n",
       "         '必将': 36,\n",
       "         '燃爆': 59,\n",
       "         '暑期': 54,\n",
       "         '厉害': 817,\n",
       "         '身为': 112,\n",
       "         '武打': 321,\n",
       "         '高标准': 2,\n",
       "         '枪战': 679,\n",
       "         '为': 4742,\n",
       "         '点赞': 112,\n",
       "         '热血男儿': 2,\n",
       "         '荷尔蒙': 156,\n",
       "         '爆发': 396,\n",
       "         '给': 10317,\n",
       "         '0': 351,\n",
       "         '星': 2714,\n",
       "         '血战': 37,\n",
       "         '钢锯': 19,\n",
       "         '岭': 34,\n",
       "         '会': 7497,\n",
       "         '歌颂': 72,\n",
       "         '宗教': 718,\n",
       "         '情怀': 931,\n",
       "         '超越': 579,\n",
       "         '政权': 33,\n",
       "         '当': 2778,\n",
       "         '只': 3320,\n",
       "         '明显': 1170,\n",
       "         '低': 755,\n",
       "         '层次': 162,\n",
       "         '充满': 1347,\n",
       "         '现实': 2162,\n",
       "         '乃至': 76,\n",
       "         '投机': 25,\n",
       "         '考量': 29,\n",
       "         '高下': 49,\n",
       "         '立': 93,\n",
       "         '见': 703,\n",
       "         '请问': 97,\n",
       "         '吴京脑': 3,\n",
       "         '残': 138,\n",
       "         '火箭炮': 6,\n",
       "         '吗': 4817,\n",
       "         '傲气': 6,\n",
       "         '雄鹰': 3,\n",
       "         '第一': 540,\n",
       "         '滴血': 26,\n",
       "         '4': 1708,\n",
       "         '算是': 1691,\n",
       "         '国内': 500,\n",
       "         '片': 6610,\n",
       "         '准': 47,\n",
       "         '钱': 905,\n",
       "         '花': 442,\n",
       "         '有效': 62,\n",
       "         '气魄': 22,\n",
       "         '创作': 255,\n",
       "         '足够': 580,\n",
       "         '真诚': 291,\n",
       "         '人物': 4001,\n",
       "         '连': 1588,\n",
       "         '张翰': 39,\n",
       "         '可爱': 3021,\n",
       "         '如果': 3622,\n",
       "         '当年': 1429,\n",
       "         '那样': 1040,\n",
       "         '一时': 98,\n",
       "         '膨胀': 30,\n",
       "         '银幕': 456,\n",
       "         '独占': 4,\n",
       "         '聚光灯': 9,\n",
       "         '走': 1825,\n",
       "         '扪心自问': 8,\n",
       "         '没法': 377,\n",
       "         '评价': 575,\n",
       "         '全片': 1218,\n",
       "         '靠': 1182,\n",
       "         '戏撑': 2,\n",
       "         '文戏': 296,\n",
       "         '扯淡': 253,\n",
       "         '女主角': 1429,\n",
       "         '毫无': 1314,\n",
       "         '必要': 476,\n",
       "         '只要': 716,\n",
       "         '开挂': 105,\n",
       "         '牛': 1635,\n",
       "         '逼': 3642,\n",
       "         '之处': 115,\n",
       "         '在于': 650,\n",
       "         '透露': 122,\n",
       "         '极': 229,\n",
       "         '强烈': 530,\n",
       "         '意识形态': 115,\n",
       "         '枷锁': 31,\n",
       "         '祖国': 61,\n",
       "         '面前': 407,\n",
       "         '一切': 1962,\n",
       "         '反动派': 5,\n",
       "         '纸老虎': 13,\n",
       "         '人开': 3,\n",
       "         '挂': 265,\n",
       "         '团灭': 12,\n",
       "         '合情合理': 33,\n",
       "         '两星': 725,\n",
       "         '鼓励': 464,\n",
       "         '其他': 1757,\n",
       "         '一般般': 484,\n",
       "         '看点': 504,\n",
       "         '有点': 7480,\n",
       "         '手接': 2,\n",
       "         '哈哈哈': 1637,\n",
       "         '从': 4179,\n",
       "         '之后': 2246,\n",
       "         '炸': 212,\n",
       "         '翻': 266,\n",
       "         '一下': 1819,\n",
       "         '四星': 1122,\n",
       "         '当时': 1032,\n",
       "         '其实': 5573,\n",
       "         '完成度': 199,\n",
       "         '接近': 310,\n",
       "         '每个': 2097,\n",
       "         '步骤': 7,\n",
       "         '顺滑': 6,\n",
       "         '任何': 1177,\n",
       "         '出人意料': 76,\n",
       "         '是因为': 858,\n",
       "         '看看': 1628,\n",
       "         '最近': 763,\n",
       "         '世界': 3440,\n",
       "         '抱歉': 76,\n",
       "         '影院': 881,\n",
       "         '燃': 183,\n",
       "         '起来': 1980,\n",
       "         '魔幻': 378,\n",
       "         '当然': 1185,\n",
       "         '强拆': 37,\n",
       "         '现实感': 14,\n",
       "         '一幕': 481,\n",
       "         '开场': 438,\n",
       "         '6': 752,\n",
       "         '搏斗': 38,\n",
       "         '从来': 299,\n",
       "         '其它': 192,\n",
       "         '拍摄': 941,\n",
       "         '难度': 68,\n",
       "         '同时': 709,\n",
       "         '技能': 81,\n",
       "         '方面': 810,\n",
       "         '要求': 318,\n",
       "         '回来': 508,\n",
       "         '搜': 50,\n",
       "         '吴京会': 1,\n",
       "         '游泳': 37,\n",
       "         '潜水': 8,\n",
       "         '滑雪': 14,\n",
       "         '开': 496,\n",
       "         '飞机': 533,\n",
       "         '射击': 39,\n",
       "         '各项': 5,\n",
       "         '特意': 108,\n",
       "         '特种部队': 36,\n",
       "         '当过': 7,\n",
       "         '18': 220,\n",
       "         '月': 629,\n",
       "         '兵': 46,\n",
       "         '佩服': 344,\n",
       "         '这样': 6472,\n",
       "         '3': 2681,\n",
       "         '星半': 181,\n",
       "         '结束': 867,\n",
       "         '掌声': 52,\n",
       "         '出现': 1582,\n",
       "         '近期': 118,\n",
       "         '少见': 103,\n",
       "         '一粒': 17,\n",
       "         '大补丸': 1,\n",
       "         '有人': 947,\n",
       "         '吃': 1272,\n",
       "         '开心': 761,\n",
       "         '补大': 1,\n",
       "         '从白': 1,\n",
       "         '黑': 1025,\n",
       "         '字幕': 773,\n",
       "         '展现': 643,\n",
       "         '超级': 1275,\n",
       "         '直': 235,\n",
       "         '男': 1883,\n",
       "         '糙': 67,\n",
       "         '猛': 132,\n",
       "         '媲美': 80,\n",
       "         '终结者': 69,\n",
       "         '5': 1658,\n",
       "         '无亮点': 65,\n",
       "         '张翰变': 1,\n",
       "         '谐星': 25,\n",
       "         '6.3': 14,\n",
       "         'D': 159,\n",
       "         '掌控': 194,\n",
       "         '逼近': 26,\n",
       "         'Hold': 14,\n",
       "         '不住': 218,\n",
       "         '边缘': 164,\n",
       "         '带感': 173,\n",
       "         '拳拳': 105,\n",
       "         '肉': 295,\n",
       "         '超爽': 13,\n",
       "         '聪明': 343,\n",
       "         '鸡': 157,\n",
       "         '贼': 84,\n",
       "         '一面': 299,\n",
       "         '旗下': 9,\n",
       "         '呈现': 413,\n",
       "         '一出': 293,\n",
       "         '重工业': 4,\n",
       "         '娱乐': 493,\n",
       "         '调控': 9,\n",
       "         '说教': 305,\n",
       "         '比例': 43,\n",
       "         '尺度': 197,\n",
       "         '大众': 197,\n",
       "         '接纳': 25,\n",
       "         '把握': 368,\n",
       "         '微妙': 226,\n",
       "         '其中': 759,\n",
       "         '一些': 2104,\n",
       "         '奇侠': 9,\n",
       "         '化': 625,\n",
       "         '内容': 986,\n",
       "         '比如': 614,\n",
       "         '玻璃碴': 2,\n",
       "         '子当': 1,\n",
       "         '飞镖': 14,\n",
       "         '杀敌': 10,\n",
       "         '一类': 102,\n",
       "         '只不过': 307,\n",
       "         '遮盖': 12,\n",
       "         '掉': 693,\n",
       "         '老爹': 81,\n",
       "         '演过': 76,\n",
       "         '美剧': 80,\n",
       "         '搏击': 75,\n",
       "         '王国': 46,\n",
       "         '力荐': 105,\n",
       "         '那部': 124,\n",
       "         '为啥': 469,\n",
       "         '奇异': 83,\n",
       "         '恩典': 2,\n",
       "         '配乐': 2726,\n",
       "         '画内': 1,\n",
       "         '男生': 186,\n",
       "         '的话': 1356,\n",
       "         '应该': 3214,\n",
       "         '刺激': 630,\n",
       "         '肾上腺素': 67,\n",
       "         '女生': 334,\n",
       "         '对龙小云': 1,\n",
       "         '感情': 1739,\n",
       "         '十分': 841,\n",
       "         '打动': 587,\n",
       "         '模仿': 570,\n",
       "         '许多': 521,\n",
       "         '怎么': 4722,\n",
       "         '玩': 1230,\n",
       "         '一股脑': 13,\n",
       "         '堆': 40,\n",
       "         '槽': 580,\n",
       "         '几位': 174,\n",
       "         '血厚到': 1,\n",
       "         '科幻': 703,\n",
       "         '级别': 182,\n",
       "         '重复': 338,\n",
       "         '满血': 15,\n",
       "         '红血': 1,\n",
       "         '中毒': 17,\n",
       "         '极速': 33,\n",
       "         '回血': 5,\n",
       "         '爆种': 3,\n",
       "         '打通': 14,\n",
       "         '全场': 336,\n",
       "         '...': 5668,\n",
       "         '太过': 588,\n",
       "         '投机取巧': 10,\n",
       "         '穿': 516,\n",
       "         '迈克尔': 83,\n",
       "         '贝都': 1,\n",
       "         '不受': 10,\n",
       "         '待见': 65,\n",
       "         '国片': 15,\n",
       "         '前仆后继': 9,\n",
       "         '爆炸': 371,\n",
       "         'high': 203,\n",
       "         '瞎燃': 1,\n",
       "         '没用': 131,\n",
       "         '10': 1355,\n",
       "         '女人': 2378,\n",
       "         '缺': 168,\n",
       "         '男人': 2387,\n",
       "         '征服': 75,\n",
       "         '吴京直': 1,\n",
       "         '男癌': 34,\n",
       "         '🇨': 1,\n",
       "         '🇳': 1,\n",
       "         '美国': 2563,\n",
       "         '不行': 1066,\n",
       "         '死': 3867,\n",
       "         '全都': 247,\n",
       "         '跳': 492,\n",
       "         '跟': 4145,\n",
       "         '跳墙': 3,\n",
       "         '一样': 4598,\n",
       "         '拯救': 678,\n",
       "         '国产片': 353,\n",
       "         '以': 1982,\n",
       "         '中印': 3,\n",
       "         '局势': 11,\n",
       "         '对比': 447,\n",
       "         '假想': 9,\n",
       "         '真是': 6449,\n",
       "         '讽刺': 737,\n",
       "         '谄媚': 17,\n",
       "         '军旅': 10,\n",
       "         '题材': 2690,\n",
       "         '质感': 362,\n",
       "         '燃到': 34,\n",
       "         '国外': 150,\n",
       "         '精彩': 2856,\n",
       "         '看着': 1895,\n",
       "         '有力': 224,\n",
       "         '必须': 688,\n",
       "         '安利': 43,\n",
       "         '一下张': 2,\n",
       "         '翰': 3,\n",
       "         '简直': 2371,\n",
       "         '承包': 27,\n",
       "         '笑点': 1085,\n",
       "         '量身定做': 34,\n",
       "         '彭于': 225,\n",
       "         '晏': 204,\n",
       "         '可演': 6,\n",
       "         '不来': 62,\n",
       "         '不少': 1113,\n",
       "         '漂移': 19,\n",
       "         '无人机': 40,\n",
       "         '突袭': 59,\n",
       "         '直升机': 67,\n",
       "         '坠露': 2,\n",
       "         '肉搏': 97,\n",
       "         '军舰': 13,\n",
       "         '发射': 16,\n",
       "         '叛乱': 3,\n",
       "         '国际化': 22,\n",
       "         '视角': 753,\n",
       "         '标配': 55,\n",
       "         '饰演': 249,\n",
       "         '深入人心': 49,\n",
       "         '搏命': 41,\n",
       "         '精神': 991,\n",
       "         '当下': 236,\n",
       "         '第三部': 309,\n",
       "         '好燃': 17,\n",
       "         '表白': 124,\n",
       "         '典型': 889,\n",
       "         '方式': 1254,\n",
       "         '每次': 638,\n",
       "         '猜': 553,\n",
       "         '没劲': 223,\n",
       "         '诶': 263,\n",
       "         '~': 21638,\n",
       "         '问': 406,\n",
       "         '王牌': 84,\n",
       "         '特工': 401,\n",
       "         '那么': 6430,\n",
       "         '杀人': 505,\n",
       "         '经过': 180,\n",
       "         '艺术': 669,\n",
       "         '处理': 987,\n",
       "         '直接': 1102,\n",
       "         '删': 124,\n",
       "         '血腥': 585,\n",
       "         '屠杀': 61,\n",
       "         '赤裸裸': 113,\n",
       "         '大段': 149,\n",
       "         '正确': 296,\n",
       "         '庇衣': 1,\n",
       "         '意料之中': 88,\n",
       "         '意料之外': 67,\n",
       "         '惊喜': 1292,\n",
       "         '属于': 720,\n",
       "         '狼性': 4,\n",
       "         '军魂': 2,\n",
       "         '几个': 1884,\n",
       "         '网红拉': 1,\n",
       "         '弹弹琴': 2,\n",
       "         '大国': 35,\n",
       "         ...})"
      ]
     },
     "execution_count": 186,
     "metadata": {},
     "output_type": "execute_result"
    }
   ],
   "source": [
    "word_count"
   ]
  },
  {
   "cell_type": "code",
   "execution_count": 187,
   "metadata": {},
   "outputs": [],
   "source": [
    "id_to_word = {}\n",
    "id_to_word[0] = '<PAD>'\n",
    "for i,w in enumerate(word_count,1):id_to_word[i] = w"
   ]
  },
  {
   "cell_type": "code",
   "execution_count": 188,
   "metadata": {},
   "outputs": [],
   "source": [
    "word_to_id = {w:i for i,w in id_to_word.items()}"
   ]
  },
  {
   "cell_type": "markdown",
   "metadata": {},
   "source": [
    "### padding"
   ]
  },
  {
   "cell_type": "code",
   "execution_count": 189,
   "metadata": {},
   "outputs": [],
   "source": [
    "def pad_sequence(word_sequence,maxlength):\n",
    "    pad_sequence = np.zeros((len(word_sequence),maxlength),dtype=np.int32)\n",
    "    for ri,row in enumerate(word_sequence):\n",
    "        for ci,w in enumerate(row.split()[:maxlength]):\n",
    "            pad_sequence[ri,ci] = word_to_id[w]\n",
    "    return pad_sequence"
   ]
  },
  {
   "cell_type": "code",
   "execution_count": 190,
   "metadata": {},
   "outputs": [],
   "source": [
    "sequence = pad_sequence(movie_comments['word_sequence'],50)"
   ]
  },
  {
   "cell_type": "markdown",
   "metadata": {},
   "source": [
    "### batches"
   ]
  },
  {
   "cell_type": "code",
   "execution_count": 233,
   "metadata": {},
   "outputs": [],
   "source": [
    "star = movie_comments['star'].values\n",
    "star = star.astype(np.int32)\n",
    "sub_one = np.vectorize(lambda x:x-1)\n",
    "star = sub_one(star)"
   ]
  },
  {
   "cell_type": "code",
   "execution_count": 234,
   "metadata": {},
   "outputs": [],
   "source": [
    "u,c = np.unique(star,return_counts=True)"
   ]
  },
  {
   "cell_type": "code",
   "execution_count": 235,
   "metadata": {},
   "outputs": [
    {
     "name": "stdout",
     "output_type": "stream",
     "text": [
      "0 0.09393332160584947\n",
      "1 0.10759711503896839\n",
      "2 0.2511415175874016\n",
      "3 0.3204968374035351\n",
      "4 0.22683120836424545\n"
     ]
    }
   ],
   "source": [
    "for s,n in zip(u,c):print(s,n/sum(c))"
   ]
  },
  {
   "cell_type": "code",
   "execution_count": 236,
   "metadata": {},
   "outputs": [],
   "source": [
    "onehot_star = np.eye(5,dtype=np.int32)[star]"
   ]
  },
  {
   "cell_type": "code",
   "execution_count": 237,
   "metadata": {},
   "outputs": [],
   "source": [
    "def get_sequence_batches(datasets,labels,batch_size):\n",
    "    assert datasets.shape[0] == labels.shape[0]\n",
    "    batch_num = datasets.shape[0] // batch_size\n",
    "    datasets_cut = datasets[:batch_num*batch_size,:]\n",
    "    last_datasets = datasets[batch_num*batch_size:,:]\n",
    "    labels_cut = labels[:batch_num*batch_size,:]\n",
    "    last_labels = labels[batch_num*batch_size:,:]\n",
    "    \n",
    "    for i in range(batch_num+1):\n",
    "        if i == batch_num:\n",
    "            yield last_datasets,last_labels\n",
    "            break\n",
    "        x = datasets_cut[i*batch_size:(i+1)*batch_size,:]\n",
    "        y = labels_cut[i*batch_size:(i+1)*batch_size,:]\n",
    "        yield x,y"
   ]
  },
  {
   "cell_type": "markdown",
   "metadata": {},
   "source": [
    "### IX 构建神经网络模型"
   ]
  },
  {
   "cell_type": "markdown",
   "metadata": {},
   "source": [
    "#### Q22:在没有预训练的词向量时候， keras 如何实现embedding操作，即如何依据一个单词的序列获得其向量表示？\n",
    "回答：\n",
    "```python\n",
    "max_feature = 50\n",
    "embed_size =300\n",
    "vocab_size = len(vocab_to_id)\n",
    "\n",
    "from keras.models import Sequential\n",
    "from keras.layers import Embedding\n",
    "\n",
    "model = Sequential()\n",
    "model.add(Embedding(vocab_size,embed_size))\n",
    "\n",
    "```"
   ]
  },
  {
   "cell_type": "markdown",
   "metadata": {},
   "source": [
    "#### Q23:在没有预训练的词向量时候， tensorflow 如何实现embedding操作，即如何依据一个单词的序列获得其向量表示？\n",
    "回答：\n",
    "```python\n",
    "import tensorflow as tf\n",
    "\n",
    "input_seq = tf.Placeholder(tf.int32,[None,max_feature])\n",
    "\n",
    "embedding = tf.Variable(tf.random_uniform((vocab_size,embed_size),-1,1))\n",
    "\n",
    "embed = tf.nn.embedding_lookup(embedding,input_seq)\n",
    "```"
   ]
  },
  {
   "cell_type": "markdown",
   "metadata": {},
   "source": [
    "#### Q24: 在有预先训练的词向量时候，keras和tensorflow又如何实现embeding操作"
   ]
  },
  {
   "cell_type": "markdown",
   "metadata": {},
   "source": [
    "回答：\n",
    "keras:\n",
    "```python\n",
    "pretrained_vec = ... # is a pretrained embedding numpy ndarray\n",
    "\n",
    "import keras\n",
    "from keras.models import Model,Sequential\n",
    "from keras.layers import Input,Dense,Embedding\n",
    "\n",
    "embeddings_initializer = keras.initializers.Constant(value=pretrained_vec)\n",
    "\n",
    "inputs = Input(shape=(max_feature,))\n",
    "embed_layer = Embedding(vocab_size,embed_size,embeddings_initializer=embeddings_initializer)(inputs)\n",
    "embed_layer.trainable = False\n",
    "```\n",
    "\n",
    "tensorflow:\n",
    "```python\n",
    "pretrained_vec = ... # is a pretrained embedding numpy ndarray\n",
    "\n",
    "import tensorflow as tf\n",
    "\n",
    "input_seq = tf.Placeholder(tf.int32,[None,max_feature])\n",
    "\n",
    "embedding = tf.get_variable(name=\"embedding\", shape=pretrained_vec.shape, initializer=tf.constant_initializer(pretrained_vec), trainable=False)\n",
    "\n",
    "embed = tf.nn.embedding_lookup(embedding,input_seq)\n",
    "```"
   ]
  },
  {
   "cell_type": "markdown",
   "metadata": {},
   "source": [
    "#### Q25： 基于上文进行的数据预处理，使用keras和tensorflow如何构建神经网络模型？请提供关键代码"
   ]
  },
  {
   "cell_type": "markdown",
   "metadata": {},
   "source": [
    "回答： keras模型构建的关键代码："
   ]
  },
  {
   "cell_type": "markdown",
   "metadata": {},
   "source": [
    "回答：tensorflow模型构建的关键代码："
   ]
  },
  {
   "cell_type": "markdown",
   "metadata": {},
   "source": [
    "###  X 使用keras的history观察loss以及accuracy的变化"
   ]
  },
  {
   "cell_type": "markdown",
   "metadata": {},
   "source": [
    "#### Q26: keras如何观察模型的loss变化以及准确率的变化，请列出关键代码"
   ]
  },
  {
   "cell_type": "markdown",
   "metadata": {},
   "source": [
    "回答："
   ]
  },
  {
   "cell_type": "markdown",
   "metadata": {},
   "source": [
    "#### Q27: 请使用matplotlib画出loss变化的趋势；"
   ]
  },
  {
   "cell_type": "markdown",
   "metadata": {},
   "source": [
    "回答："
   ]
  },
  {
   "cell_type": "markdown",
   "metadata": {},
   "source": [
    "### XI 使用tensorflow tensorboard观察loss, accuracy的变化"
   ]
  },
  {
   "cell_type": "markdown",
   "metadata": {},
   "source": [
    "#### Q28: tensorflow如何观察模型的loss变化以及准确率的变化， tensor board 如何使用？ 请列出关键代码"
   ]
  },
  {
   "cell_type": "markdown",
   "metadata": {},
   "source": [
    "回答："
   ]
  },
  {
   "cell_type": "markdown",
   "metadata": {},
   "source": [
    "#### Q29: 试着点击tensor board的不同按钮 观察图像的变化； 试着给tensorflow board机制 写入不同时候训练的模型时候，给模型取不同的名字，观察tensor board的图像变化；"
   ]
  },
  {
   "cell_type": "markdown",
   "metadata": {},
   "source": [
    "回答："
   ]
  },
  {
   "cell_type": "markdown",
   "metadata": {},
   "source": [
    "### XII 观察熟悉RNN的两种变体的原理和方法"
   ]
  },
  {
   "cell_type": "markdown",
   "metadata": {},
   "source": [
    "#### Q30:试着改进RNN，使用LSTM， GRU 进行模型的改动， 观察训练结果(loss和accuracy)的变化， 你观察到了什么变化？ 如何解释？"
   ]
  },
  {
   "cell_type": "markdown",
   "metadata": {},
   "source": [
    "回答：\n",
    "\n",
    "---"
   ]
  },
  {
   "cell_type": "markdown",
   "metadata": {},
   "source": [
    "## split the data"
   ]
  },
  {
   "cell_type": "code",
   "execution_count": 238,
   "metadata": {},
   "outputs": [
    {
     "name": "stdout",
     "output_type": "stream",
     "text": [
      "train_x shape: (209195, 50)\n",
      "val_x shape: (26149, 50)\n",
      "test_x shape: (26150, 50)\n"
     ]
    }
   ],
   "source": [
    "split_frac = 0.8\n",
    "\n",
    "from sklearn.utils import shuffle\n",
    "\n",
    "sequence,onehot_star = shuffle(sequence,onehot_star,random_state=42)\n",
    "\n",
    "split_idx = int(len(sequence)*0.8)\n",
    "\n",
    "train_x, val_x = sequence[:split_idx], sequence[split_idx:]\n",
    "train_y, val_y = onehot_star[:split_idx], onehot_star[split_idx:]\n",
    "\n",
    "test_idx = int(len(val_x)*0.5)\n",
    "\n",
    "val_x, test_x = val_x[:test_idx], val_x[test_idx:]\n",
    "val_y, test_y = val_y[:test_idx], val_y[test_idx:]\n",
    "\n",
    "print('train_x shape:', train_x.shape)\n",
    "print('val_x shape:', val_x.shape)\n",
    "print('test_x shape:', test_x.shape)"
   ]
  },
  {
   "cell_type": "markdown",
   "metadata": {},
   "source": [
    "## load embeddings"
   ]
  },
  {
   "cell_type": "code",
   "execution_count": null,
   "metadata": {},
   "outputs": [],
   "source": []
  },
  {
   "cell_type": "markdown",
   "metadata": {},
   "source": [
    "## code for sentimental analysis(construct model keras)"
   ]
  },
  {
   "cell_type": "code",
   "execution_count": null,
   "metadata": {},
   "outputs": [],
   "source": []
  },
  {
   "cell_type": "markdown",
   "metadata": {},
   "source": [
    "## code for sentimental analysis(construct model tensorflow)"
   ]
  },
  {
   "cell_type": "code",
   "execution_count": null,
   "metadata": {},
   "outputs": [],
   "source": []
  },
  {
   "cell_type": "markdown",
   "metadata": {},
   "source": [
    "### XIII 模型的改进"
   ]
  },
  {
   "cell_type": "markdown",
   "metadata": {},
   "source": [
    "#### Q31: 修改vocabulary size, embedding size, 并且结合使用LSTM， GRU， Bi-RNN， Stacked， Attentional, regularization, 等各种方法组合进行模型的优化， 至少进行10次优化，每次优化请按照以下步骤填写："
   ]
  },
  {
   "cell_type": "markdown",
   "metadata": {},
   "source": [
    "回答：\n",
    "\n",
    "---这是一个实例----\n",
    "\n",
    "第1次优化：\n",
    "\n",
    "1. 存在的问题： loss下降太慢；\n",
    "2. 准备进行的优化：减小模型的神经单元数量；\n",
    "3. 期待的结果：loss下降加快；\n",
    "4. 实际结果：loss下降的确加快(或者并没有加快)\n",
    "5. 原因分析：模型神经元数量减小，收敛需要的次数减少，loss下降加快\n",
    "\n",
    "\n",
    "---你的实验优化结构记录在此---\n",
    "\n",
    "**第1次优化**：\n",
    "\n",
    "1. 存在的问题： \n",
    "2. 准备进行的优化：\n",
    "3. 期待的结果：\n",
    "4. 实际结果：\n",
    "5. 原因分析：\n",
    "\n",
    "**第2次优化**：\n",
    "\n",
    "1. 存在的问题： \n",
    "2. 准备进行的优化：\n",
    "3. 期待的结果：\n",
    "4. 实际结果：\n",
    "5. 原因分析：\n",
    "\n",
    "**第3次优化**：\n",
    "\n",
    "1. 存在的问题： \n",
    "2. 准备进行的优化：\n",
    "3. 期待的结果：\n",
    "4. 实际结果：\n",
    "5. 原因分析：\n",
    "\n",
    "**第4次优化**：\n",
    "\n",
    "1. 存在的问题： \n",
    "2. 准备进行的优化：\n",
    "3. 期待的结果：\n",
    "4. 实际结果：\n",
    "5. 原因分析：\n",
    "\n",
    "**第5次优化**：\n",
    "\n",
    "1. 存在的问题： \n",
    "2. 准备进行的优化：\n",
    "3. 期待的结果：\n",
    "4. 实际结果：\n",
    "5. 原因分析：\n",
    "\n",
    "**第6次优化**：\n",
    "\n",
    "1. 存在的问题： \n",
    "2. 准备进行的优化：\n",
    "3. 期待的结果：\n",
    "4. 实际结果：\n",
    "5. 原因分析：\n",
    "\n",
    "**第7次优化**：\n",
    "\n",
    "1. 存在的问题： \n",
    "2. 准备进行的优化：\n",
    "3. 期待的结果：\n",
    "4. 实际结果：\n",
    "5. 原因分析：\n",
    "\n",
    "**第9次优化**：\n",
    "\n",
    "1. 存在的问题： \n",
    "2. 准备进行的优化：\n",
    "3. 期待的结果：\n",
    "4. 实际结果：\n",
    "5. 原因分析：\n",
    "\n",
    "**第10次优化**：\n",
    "\n",
    "1. 存在的问题： \n",
    "2. 准备进行的优化：\n",
    "3. 期待的结果：\n",
    "4. 实际结果：\n",
    "5. 原因分析：\n"
   ]
  },
  {
   "cell_type": "markdown",
   "metadata": {},
   "source": [
    "### XIV问题： 本次实验的总结"
   ]
  },
  {
   "cell_type": "markdown",
   "metadata": {},
   "source": [
    "请写实验的总结报告，描述此次项目的主要过程，其中遇到的问题，以及如何解决这些问题的，以及有什么经验和收获。"
   ]
  }
 ],
 "metadata": {
  "kernelspec": {
   "display_name": "Python 3",
   "language": "python",
   "name": "python3"
  },
  "language_info": {
   "codemirror_mode": {
    "name": "ipython",
    "version": 3
   },
   "file_extension": ".py",
   "mimetype": "text/x-python",
   "name": "python",
   "nbconvert_exporter": "python",
   "pygments_lexer": "ipython3",
   "version": "3.6.5"
  }
 },
 "nbformat": 4,
 "nbformat_minor": 2
}
